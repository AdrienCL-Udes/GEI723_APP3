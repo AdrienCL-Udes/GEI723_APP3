{
 "cells": [
  {
   "cell_type": "markdown",
   "metadata": {},
   "source": [
    "## Équation 1\n",
    "\n",
    "### Notre équation\n",
    "$$\n",
    "\\frac{dI_{i}}{dt} = -\\frac{I_{i}(t)}{\\tau_{i}} + \\sum_{j=1}^{N} w_{ij}S_{j}(t)\n",
    "$$\n",
    "\n",
    "### Leur équation\n",
    "$$\n",
    "\\frac{dI^{(l)}_{i}}{dt} = -\\frac{I^{(l)}_{i}(t)}{\\tau_{syn}} + \\sum_{j=1}^{N} W^{(l)}_{ij}S^{(l-1)}_{j}(t) + \\sum_{j=1}^{N} V^{(l)}_{ij}S^{(l)}_{j}(t)\n",
    "$$\n",
    "\n",
    "### En quoi sont-elles differentes ? Pourquoi ? Pour quel type de réseau de neurones s’appliquent-elles ?\n",
    "\n",
    "Notre équation n'a pas une deuxième sommation parce que notre équation est utilisée pour un réseau de type \"feed-foward\", tandis que leur équation est utilisée pour un réseau de type \"recurrent\". \n",
    "\n",
    "## Équation 2\n",
    "\n",
    "### Notre équation\n",
    "$$\n",
    "\\frac{dU_{i}}{dt} = \\frac{-U_{i}(t) + I_{i}(t)}{\\tau_{U}}\n",
    "$$\n",
    "\n",
    "### Leur équation\n",
    "$$\n",
    "\\tau_{mem}\\frac{dU^{(l)}_{i}}{dt} = -\\left(U^{(l)}_{i}(t) - U_{rest}\\right) + RI^{(l)}_{i}\n",
    "$$\n",
    "\n",
    "### En quoi sont-elles differentes ? Pourquoi ? Pour quel type de réseau de neurones s’appliquent-elles ?\n",
    "\n",
    "Il y a plusieurs différence entre les deux équation:\n",
    "1. Dans notre équation, la variable $U_{rest}$ est omise puisqu'elle a la valeur 0.\n",
    "2. Dans notre équation, la variable $R$ est omise puisqu'elle a la valeur 1.\n",
    "3. Dans notre équation, la variable $\\tau$ est du côté droite de l'équalité en tant que dénominateur par convention.\n",
    "\n",
    "Les équations décrivent un neurone de type LIF et c'est neurone peuvent être utilisé dans un réseau de neurone de n'importe qu'elle type.\n"
   ]
  }
 ],
 "metadata": {
  "language_info": {
   "name": "python"
  }
 },
 "nbformat": 4,
 "nbformat_minor": 2
}
