{
 "cells": [
  {
   "cell_type": "markdown",
   "metadata": {
    "id": "PWTf7H60Z0i_"
   },
   "source": [
    "## Problème 5: Une seule itération\n",
    "\n",
    "### Paramètre\n",
    "\n",
    "- Subsitution du gradient : Fonction de ReLu avec $\\alpha = 0.01$\n",
    "- Nombre de couches : 2\n",
    "- Nombre de neurones : 128\n",
    "- **Nombre d’iterations : 1**\n",
    "- Taux d’apprentissage : 0.01\n",
    "- Pas de discretisation $\\left(\\Delta T\\right)$ : 1 ms\n",
    "- Taille des lots : 256"
   ]
  },
  {
   "cell_type": "code",
   "execution_count": 1,
   "metadata": {},
   "outputs": [],
   "source": [
    "nb_neurons = 128\n",
    "nb_iteration = 1\n",
    "learning_rate = 0.01\n",
    "discretisation = 1\n",
    "lot_size = 256"
   ]
  },
  {
   "cell_type": "markdown",
   "metadata": {
    "id": "qpKksf2Ik4ga"
   },
   "source": [
    "#### Packages et imports"
   ]
  },
  {
   "cell_type": "code",
   "execution_count": 2,
   "metadata": {
    "id": "IJGOX5B8F7ic"
   },
   "outputs": [],
   "source": [
    "# pip install torch quantities sparse==0.11.0 > /dev/null\n",
    "\n",
    "import numpy as np\n",
    "import matplotlib.pyplot as plt\n",
    "from sklearn import datasets, model_selection, utils\n",
    "import torch\n",
    "import quantities as units\n",
    "from sparse import COO"
   ]
  },
  {
   "cell_type": "markdown",
   "metadata": {
    "id": "BspwdQSOk8U-"
   },
   "source": [
    "#### Configuration"
   ]
  },
  {
   "cell_type": "code",
   "execution_count": 3,
   "metadata": {
    "id": "ngz0VkgVmJB6"
   },
   "outputs": [],
   "source": [
    "# Reproducibility\n",
    "torch.manual_seed(0)\n",
    "np.random.seed(0)\n",
    "\n",
    "# Use the GPU unless there is none available.\n",
    "# If you don't have a CUDA enabled GPU, I recommned using Google Colab,\n",
    "# available at https://colab.research.google.com. Create a new notebook\n",
    "# and then go to Runtime -> Change runtime type -> Hardware accelerator -> GPU\n",
    "# Colab gives you access to up to 12 free continuous hours of a fairly recent GPU.\n",
    "device = torch.device(\"cuda\") if torch.cuda.is_available() else torch.device(\"cpu\")\n"
   ]
  },
  {
   "cell_type": "markdown",
   "metadata": {
    "id": "frOGRjz0mL_5"
   },
   "source": [
    "#### Préparation des données"
   ]
  },
  {
   "cell_type": "code",
   "execution_count": 4,
   "metadata": {
    "id": "hp-KevLKmLLP"
   },
   "outputs": [
    {
     "name": "stderr",
     "output_type": "stream",
     "text": [
      "C:\\Users\\AdrienLaptop\\AppData\\Local\\Packages\\PythonSoftwareFoundation.Python.3.11_qbz5n2kfra8p0\\LocalCache\\local-packages\\Python311\\site-packages\\sklearn\\datasets\\_openml.py:1022: FutureWarning: The default value of `parser` will change from `'liac-arff'` to `'auto'` in 1.4. You can set `parser='auto'` to silence this warning. Therefore, an `ImportError` will be raised from 1.4 if the dataset is dense and pandas is not installed. Note that the pandas parser may return different data types. See the Notes Section in fetch_openml's API doc for details.\n",
      "  warn(\n"
     ]
    }
   ],
   "source": [
    "# Let's download the MNIST dataset, available at https://www.openml.org/d/554\n",
    "# You can edit the argument data_home to the directory of your choice.\n",
    "# The dataset will be downloaded there; the default directory is ~/scikit_learn_data/\n",
    "X, y = datasets.fetch_openml('mnist_784', version=1, return_X_y=True, data_home=None, as_frame=False)\n",
    "nb_of_samples, nb_of_features = X.shape\n",
    "# X = 70k samples, 28*28 features; y = 70k samples, 1 label (string)\n",
    "\n",
    "# Shuffle the dataset\n",
    "X, y = utils.shuffle(X, y)\n",
    "\n",
    "# Convert the labels (string) to integers for convenience\n",
    "y = np.array(y, dtype=int)\n",
    "nb_of_ouputs = np.max(y) + 1\n",
    "\n",
    "# We'll normalize our input data in the range [0, 1[.\n",
    "X = X / pow(2, 8)"
   ]
  },
  {
   "cell_type": "markdown",
   "metadata": {
    "id": "dgamMat1mXvu"
   },
   "source": [
    "#### Conversion en décharges"
   ]
  },
  {
   "cell_type": "code",
   "execution_count": 5,
   "metadata": {
    "id": "moU3ZUh8mSFG",
    "scrolled": true
   },
   "outputs": [],
   "source": [
    "# And convert the data to a spike train using TTFS encoding\n",
    "dt = discretisation*units.ms\n",
    "duration_per_image = 100*units.ms\n",
    "absolute_duration = int(duration_per_image / dt)\n",
    "\n",
    "time_of_spike = (1 - X) * absolute_duration  # The brighter the pixel, the earlier the spike\n",
    "time_of_spike[X < .25] = 0  # \"Remove\" the spikes associated with darker pixels, which presumably carry less information\n",
    "\n",
    "sample_id, neuron_idx = np.nonzero(time_of_spike)\n",
    "\n",
    "# We use a sparse COO array to store the spikes for memory requirements\n",
    "# You can use the spike_train variable as if it were a tensor of shape (nb_of_samples, nb_of_features, absolute_duration)\n",
    "spike_train = COO((sample_id, neuron_idx, time_of_spike[sample_id, neuron_idx]),\n",
    "                  np.ones_like(sample_id), shape=(nb_of_samples, nb_of_features, absolute_duration))\n"
   ]
  },
  {
   "cell_type": "markdown",
   "metadata": {
    "id": "IAxIwqtumyda"
   },
   "source": [
    "#### Split entrainement/test"
   ]
  },
  {
   "cell_type": "code",
   "execution_count": 6,
   "metadata": {
    "id": "9ffhq5RQm1Gg"
   },
   "outputs": [],
   "source": [
    "# Split in train/test\n",
    "nb_of_train_samples = int(nb_of_samples * 0.85)  # Keep 15% of the dataset for testing\n",
    "train_indices = np.arange(nb_of_train_samples)\n",
    "test_indices = np.arange(nb_of_train_samples, nb_of_samples)"
   ]
  },
  {
   "cell_type": "markdown",
   "metadata": {
    "id": "ZWlfjmhjmdPz"
   },
   "source": [
    "#### Création du réseau"
   ]
  },
  {
   "cell_type": "code",
   "execution_count": 7,
   "metadata": {
    "id": "wqeJ9wNBm_84"
   },
   "outputs": [
    {
     "data": {
      "text/plain": [
       "tensor([[ 0.0166, -0.0201, -0.0915,  ...,  0.1204, -0.0279,  0.1034],\n",
       "        [ 0.0904, -0.0630, -0.0854,  ...,  0.1121, -0.0862, -0.1139],\n",
       "        [ 0.0663, -0.0444,  0.0240,  ...,  0.0991, -0.0835,  0.0579],\n",
       "        ...,\n",
       "        [-0.2037,  0.0690,  0.0162,  ..., -0.0634,  0.0101, -0.0868],\n",
       "        [ 0.0544, -0.1185,  0.1433,  ..., -0.0279, -0.0658,  0.1325],\n",
       "        [ 0.0045,  0.0288,  0.0155,  ..., -0.0239, -0.0366, -0.0218]],\n",
       "       requires_grad=True)"
      ]
     },
     "execution_count": 7,
     "metadata": {},
     "output_type": "execute_result"
    }
   ],
   "source": [
    "# We create a 2 layer network (1 hidden, 1 output)\n",
    "nb_hidden = nb_neurons  # Number of hidden neurons\n",
    "\n",
    "w1 = torch.empty((nb_of_features, nb_hidden), device=device, dtype=torch.float, requires_grad=True)\n",
    "torch.nn.init.normal_(w1, mean=0., std=.1)\n",
    "\n",
    "w2 = torch.empty((nb_hidden, nb_of_ouputs), device=device, dtype=torch.float, requires_grad=True)\n",
    "torch.nn.init.normal_(w2, mean=0., std=.1)\n"
   ]
  },
  {
   "cell_type": "code",
   "execution_count": 8,
   "metadata": {
    "id": "rrZ3qeWfnBwj"
   },
   "outputs": [],
   "source": [
    "\"\"\"\n",
    "Cette class permet de calculer la sortie d'une fonction lors de la propagation avant et de personaliser la derivée lors de la retropropagation de l'erreur.\n",
    "Voir cet exemple pour plus de détails : https://pytorch.org/tutorials/beginner/examples_autograd/two_layer_net_custom_function.html\n",
    "\"\"\"\n",
    "class SpikeFunction(torch.autograd.Function):\n",
    "    \"\"\"\n",
    "    Dans la passe avant, nous recevons un tenseur contenant l'entrée (potential-threshold).\n",
    "    Nous appliquons la fonction Heaviside et renvoyons un tenseur contenant la sortie.\n",
    "    \"\"\"\n",
    "    @staticmethod\n",
    "    def forward(ctx, input):\n",
    "        ctx.save_for_backward(input)\n",
    "        out = torch.zeros_like(input)\n",
    "        out[input > 0] = 1.0 # On génère une décharge quand (potential-threshold) > 0\n",
    "        return out\n",
    "\n",
    "    \"\"\"\n",
    "    Dans la passe arrière, nous recevons un tenseur contenant le gradient de l'erreur par rapport à la sortie.\n",
    "    Nous calculons le gradient de l'erreur par rapport à l'entrée en utilisant la dérivée de la fonction ReLu.\n",
    "    \"\"\"\n",
    "    @staticmethod\n",
    "    def backward(ctx, grad_output):\n",
    "        input, = ctx.saved_tensors\n",
    "        grad_relu = torch.ones_like(input) # The derivativen ReLU function\n",
    "        grad_relu[input < 0] = 0.01        # Apply alpha = 0.01 to negative input\n",
    "        return grad_output.clone()*grad_relu"
   ]
  },
  {
   "cell_type": "code",
   "execution_count": 9,
   "metadata": {
    "id": "xAXZCMNsnIri"
   },
   "outputs": [],
   "source": [
    "def run_spiking_layer(input_spike_train, layer_weights, tau_v=20*units.ms, tau_i=5*units.ms, v_threshold=1.0):\n",
    "    \"\"\"Here we implement a current-LIF dynamic in PyTorch\"\"\"\n",
    "\n",
    "    # First, we multiply the input spike train by the weights of the current layer to get the current that will be added\n",
    "    # We can calculate this beforehand because the weights are constant in the forward pass (no plasticity)\n",
    "    input_current = torch.einsum(\"abc,bd->adc\", (input_spike_train, layer_weights))  # Equivalent to a matrix multiplication for tensors of dim > 2 using Einstein's Notation\n",
    "\n",
    "    recorded_spikes = []  # Array of the output spikes at each time t\n",
    "    membrane_potential_at_t = torch.zeros((input_spike_train.shape[0], layer_weights.shape[-1]), device=device, dtype=torch.float)\n",
    "    membrane_current_at_t = torch.zeros((input_spike_train.shape[0], layer_weights.shape[-1]), device=device, dtype=torch.float)\n",
    "\n",
    "    const_a = discretisation*units.ms / tau_i\n",
    "    alpha = np.exp(-(const_a.item()))\n",
    "\n",
    "    const_b = discretisation*units.ms / tau_v\n",
    "    beta = np.exp(-(const_b.item()))\n",
    "\n",
    "    for t in range(absolute_duration):  # For every timestep\n",
    "        # Apply the leak\n",
    "        membrane_potential_at_t = torch.mul(membrane_potential_at_t, beta) # Using tau_v with euler or exact method\n",
    "        membrane_current_at_t = torch.mul(membrane_current_at_t, alpha) # Using tau_i with euler or exact method\n",
    "\n",
    "        # Select the input current at time t\n",
    "        input_at_t = input_current[:, :, t]\n",
    "\n",
    "        # Integrate the input current\n",
    "        membrane_current_at_t += input_at_t\n",
    "\n",
    "        # Integrate the input to the membrane potential\n",
    "        membrane_potential_at_t += membrane_current_at_t\n",
    "\n",
    "        # Apply the non-differentiable function\n",
    "        recorded_spikes_at_t = SpikeFunction.apply(membrane_potential_at_t - v_threshold)\n",
    "        recorded_spikes.append(recorded_spikes_at_t)\n",
    "\n",
    "        # Reset the spiked neurons\n",
    "        membrane_potential_at_t[membrane_potential_at_t > v_threshold] = 0\n",
    "\n",
    "    recorded_spikes = torch.stack(recorded_spikes, dim=2) # Stack over time axis (Array -> Tensor)\n",
    "    return recorded_spikes\n"
   ]
  },
  {
   "cell_type": "markdown",
   "metadata": {
    "id": "xNEAhvjlnVqF"
   },
   "source": [
    "#### Entrainement"
   ]
  },
  {
   "cell_type": "code",
   "execution_count": 10,
   "metadata": {
    "id": "dPyehEEZzc4x"
   },
   "outputs": [
    {
     "name": "stdout",
     "output_type": "stream",
     "text": [
      "Batch 1 out of 232 in Epoch 1 -- loss : 966.2136\n",
      "Batch 2 out of 232 in Epoch 1 -- loss : 868.0654\n",
      "Batch 3 out of 232 in Epoch 1 -- loss : 663.5934\n",
      "Batch 4 out of 232 in Epoch 1 -- loss : 664.5265\n",
      "Batch 5 out of 232 in Epoch 1 -- loss : 598.4459\n",
      "Batch 6 out of 232 in Epoch 1 -- loss : 522.4494\n",
      "Batch 7 out of 232 in Epoch 1 -- loss : 484.7451\n",
      "Batch 8 out of 232 in Epoch 1 -- loss : 496.6296\n",
      "Batch 9 out of 232 in Epoch 1 -- loss : 473.2031\n",
      "Batch 10 out of 232 in Epoch 1 -- loss : 500.4782\n",
      "Batch 11 out of 232 in Epoch 1 -- loss : 493.2237\n",
      "Batch 12 out of 232 in Epoch 1 -- loss : 460.0634\n",
      "Batch 13 out of 232 in Epoch 1 -- loss : 469.9047\n",
      "Batch 14 out of 232 in Epoch 1 -- loss : 411.2946\n",
      "Batch 15 out of 232 in Epoch 1 -- loss : 405.3864\n",
      "Batch 16 out of 232 in Epoch 1 -- loss : 411.5525\n",
      "Batch 17 out of 232 in Epoch 1 -- loss : 360.8249\n",
      "Batch 18 out of 232 in Epoch 1 -- loss : 422.2685\n",
      "Batch 19 out of 232 in Epoch 1 -- loss : 385.8591\n",
      "Batch 20 out of 232 in Epoch 1 -- loss : 395.9833\n",
      "Batch 21 out of 232 in Epoch 1 -- loss : 361.2973\n",
      "Batch 22 out of 232 in Epoch 1 -- loss : 381.4039\n",
      "Batch 23 out of 232 in Epoch 1 -- loss : 396.2860\n",
      "Batch 24 out of 232 in Epoch 1 -- loss : 387.5074\n",
      "Batch 25 out of 232 in Epoch 1 -- loss : 402.9117\n",
      "Batch 26 out of 232 in Epoch 1 -- loss : 351.9288\n",
      "Batch 27 out of 232 in Epoch 1 -- loss : 389.5821\n",
      "Batch 28 out of 232 in Epoch 1 -- loss : 340.8373\n",
      "Batch 29 out of 232 in Epoch 1 -- loss : 371.2996\n",
      "Batch 30 out of 232 in Epoch 1 -- loss : 372.0148\n",
      "Batch 31 out of 232 in Epoch 1 -- loss : 333.2448\n",
      "Batch 32 out of 232 in Epoch 1 -- loss : 373.2906\n",
      "Batch 33 out of 232 in Epoch 1 -- loss : 370.4595\n",
      "Batch 34 out of 232 in Epoch 1 -- loss : 318.0918\n",
      "Batch 35 out of 232 in Epoch 1 -- loss : 394.3634\n",
      "Batch 36 out of 232 in Epoch 1 -- loss : 360.3230\n",
      "Batch 37 out of 232 in Epoch 1 -- loss : 366.2315\n",
      "Batch 38 out of 232 in Epoch 1 -- loss : 365.7101\n",
      "Batch 39 out of 232 in Epoch 1 -- loss : 339.5654\n",
      "Batch 40 out of 232 in Epoch 1 -- loss : 358.9650\n",
      "Batch 41 out of 232 in Epoch 1 -- loss : 329.3790\n",
      "Batch 42 out of 232 in Epoch 1 -- loss : 352.1023\n",
      "Batch 43 out of 232 in Epoch 1 -- loss : 344.6027\n",
      "Batch 44 out of 232 in Epoch 1 -- loss : 339.8856\n",
      "Batch 45 out of 232 in Epoch 1 -- loss : 347.5117\n",
      "Batch 46 out of 232 in Epoch 1 -- loss : 338.8790\n",
      "Batch 47 out of 232 in Epoch 1 -- loss : 309.5786\n",
      "Batch 48 out of 232 in Epoch 1 -- loss : 322.6638\n",
      "Batch 49 out of 232 in Epoch 1 -- loss : 303.1615\n",
      "Batch 50 out of 232 in Epoch 1 -- loss : 329.9039\n",
      "Batch 51 out of 232 in Epoch 1 -- loss : 325.7724\n",
      "Batch 52 out of 232 in Epoch 1 -- loss : 354.4829\n",
      "Batch 53 out of 232 in Epoch 1 -- loss : 321.4261\n",
      "Batch 54 out of 232 in Epoch 1 -- loss : 333.3436\n",
      "Batch 55 out of 232 in Epoch 1 -- loss : 302.8405\n",
      "Batch 56 out of 232 in Epoch 1 -- loss : 288.5821\n",
      "Batch 57 out of 232 in Epoch 1 -- loss : 335.4961\n",
      "Batch 58 out of 232 in Epoch 1 -- loss : 276.2101\n",
      "Batch 59 out of 232 in Epoch 1 -- loss : 304.0771\n",
      "Batch 60 out of 232 in Epoch 1 -- loss : 301.2074\n",
      "Batch 61 out of 232 in Epoch 1 -- loss : 317.3817\n",
      "Batch 62 out of 232 in Epoch 1 -- loss : 310.6716\n",
      "Batch 63 out of 232 in Epoch 1 -- loss : 345.6463\n",
      "Batch 64 out of 232 in Epoch 1 -- loss : 309.6424\n",
      "Batch 65 out of 232 in Epoch 1 -- loss : 276.3019\n",
      "Batch 66 out of 232 in Epoch 1 -- loss : 313.8681\n",
      "Batch 67 out of 232 in Epoch 1 -- loss : 318.3156\n",
      "Batch 68 out of 232 in Epoch 1 -- loss : 316.1447\n",
      "Batch 69 out of 232 in Epoch 1 -- loss : 301.6074\n",
      "Batch 70 out of 232 in Epoch 1 -- loss : 304.6008\n",
      "Batch 71 out of 232 in Epoch 1 -- loss : 313.6996\n",
      "Batch 72 out of 232 in Epoch 1 -- loss : 330.1833\n",
      "Batch 73 out of 232 in Epoch 1 -- loss : 319.3117\n",
      "Batch 74 out of 232 in Epoch 1 -- loss : 307.3350\n",
      "Batch 75 out of 232 in Epoch 1 -- loss : 315.9160\n",
      "Batch 76 out of 232 in Epoch 1 -- loss : 280.2607\n",
      "Batch 77 out of 232 in Epoch 1 -- loss : 288.4502\n",
      "Batch 78 out of 232 in Epoch 1 -- loss : 303.4323\n",
      "Batch 79 out of 232 in Epoch 1 -- loss : 262.0385\n",
      "Batch 80 out of 232 in Epoch 1 -- loss : 293.0051\n",
      "Batch 81 out of 232 in Epoch 1 -- loss : 313.0027\n",
      "Batch 82 out of 232 in Epoch 1 -- loss : 284.0961\n",
      "Batch 83 out of 232 in Epoch 1 -- loss : 352.0961\n",
      "Batch 84 out of 232 in Epoch 1 -- loss : 279.6973\n",
      "Batch 85 out of 232 in Epoch 1 -- loss : 296.7486\n",
      "Batch 86 out of 232 in Epoch 1 -- loss : 310.5276\n",
      "Batch 87 out of 232 in Epoch 1 -- loss : 296.3323\n",
      "Batch 88 out of 232 in Epoch 1 -- loss : 326.1058\n",
      "Batch 89 out of 232 in Epoch 1 -- loss : 318.2444\n",
      "Batch 90 out of 232 in Epoch 1 -- loss : 273.1767\n",
      "Batch 91 out of 232 in Epoch 1 -- loss : 293.6545\n",
      "Batch 92 out of 232 in Epoch 1 -- loss : 320.7483\n",
      "Batch 93 out of 232 in Epoch 1 -- loss : 294.5619\n",
      "Batch 94 out of 232 in Epoch 1 -- loss : 283.7214\n",
      "Batch 95 out of 232 in Epoch 1 -- loss : 293.3630\n",
      "Batch 96 out of 232 in Epoch 1 -- loss : 294.9035\n",
      "Batch 97 out of 232 in Epoch 1 -- loss : 286.3957\n",
      "Batch 98 out of 232 in Epoch 1 -- loss : 289.0206\n",
      "Batch 99 out of 232 in Epoch 1 -- loss : 288.1031\n",
      "Batch 100 out of 232 in Epoch 1 -- loss : 292.3401\n",
      "Batch 101 out of 232 in Epoch 1 -- loss : 314.2677\n",
      "Batch 102 out of 232 in Epoch 1 -- loss : 277.8595\n",
      "Batch 103 out of 232 in Epoch 1 -- loss : 305.3650\n",
      "Batch 104 out of 232 in Epoch 1 -- loss : 275.9066\n",
      "Batch 105 out of 232 in Epoch 1 -- loss : 301.5471\n",
      "Batch 106 out of 232 in Epoch 1 -- loss : 312.0685\n",
      "Batch 107 out of 232 in Epoch 1 -- loss : 292.5506\n",
      "Batch 108 out of 232 in Epoch 1 -- loss : 295.0914\n",
      "Batch 109 out of 232 in Epoch 1 -- loss : 278.1582\n",
      "Batch 110 out of 232 in Epoch 1 -- loss : 295.4797\n",
      "Batch 111 out of 232 in Epoch 1 -- loss : 289.6375\n",
      "Batch 112 out of 232 in Epoch 1 -- loss : 308.6211\n",
      "Batch 113 out of 232 in Epoch 1 -- loss : 283.3895\n",
      "Batch 114 out of 232 in Epoch 1 -- loss : 309.1527\n",
      "Batch 115 out of 232 in Epoch 1 -- loss : 300.2656\n",
      "Batch 116 out of 232 in Epoch 1 -- loss : 263.3672\n",
      "Batch 117 out of 232 in Epoch 1 -- loss : 287.1750\n",
      "Batch 118 out of 232 in Epoch 1 -- loss : 277.1102\n",
      "Batch 119 out of 232 in Epoch 1 -- loss : 313.1875\n",
      "Batch 120 out of 232 in Epoch 1 -- loss : 301.7371\n",
      "Batch 121 out of 232 in Epoch 1 -- loss : 285.0648\n",
      "Batch 122 out of 232 in Epoch 1 -- loss : 304.0375\n",
      "Batch 123 out of 232 in Epoch 1 -- loss : 318.4766\n",
      "Batch 124 out of 232 in Epoch 1 -- loss : 265.1090\n",
      "Batch 125 out of 232 in Epoch 1 -- loss : 251.5934\n",
      "Batch 126 out of 232 in Epoch 1 -- loss : 267.9641\n",
      "Batch 127 out of 232 in Epoch 1 -- loss : 294.3836\n",
      "Batch 128 out of 232 in Epoch 1 -- loss : 279.8215\n",
      "Batch 129 out of 232 in Epoch 1 -- loss : 301.2355\n",
      "Batch 130 out of 232 in Epoch 1 -- loss : 277.7531\n",
      "Batch 131 out of 232 in Epoch 1 -- loss : 281.1918\n",
      "Batch 132 out of 232 in Epoch 1 -- loss : 263.6258\n",
      "Batch 133 out of 232 in Epoch 1 -- loss : 304.1887\n",
      "Batch 134 out of 232 in Epoch 1 -- loss : 270.1777\n",
      "Batch 135 out of 232 in Epoch 1 -- loss : 291.5695\n",
      "Batch 136 out of 232 in Epoch 1 -- loss : 243.3051\n",
      "Batch 137 out of 232 in Epoch 1 -- loss : 296.7039\n",
      "Batch 138 out of 232 in Epoch 1 -- loss : 284.4523\n",
      "Batch 139 out of 232 in Epoch 1 -- loss : 269.2168\n",
      "Batch 140 out of 232 in Epoch 1 -- loss : 244.9773\n",
      "Batch 141 out of 232 in Epoch 1 -- loss : 289.1613\n",
      "Batch 142 out of 232 in Epoch 1 -- loss : 286.4578\n",
      "Batch 143 out of 232 in Epoch 1 -- loss : 254.9918\n",
      "Batch 144 out of 232 in Epoch 1 -- loss : 275.0293\n",
      "Batch 145 out of 232 in Epoch 1 -- loss : 273.8961\n",
      "Batch 146 out of 232 in Epoch 1 -- loss : 291.3801\n",
      "Batch 147 out of 232 in Epoch 1 -- loss : 247.5352\n",
      "Batch 148 out of 232 in Epoch 1 -- loss : 286.4605\n",
      "Batch 149 out of 232 in Epoch 1 -- loss : 290.7660\n",
      "Batch 150 out of 232 in Epoch 1 -- loss : 291.0277\n",
      "Batch 151 out of 232 in Epoch 1 -- loss : 299.9891\n",
      "Batch 152 out of 232 in Epoch 1 -- loss : 266.8332\n",
      "Batch 153 out of 232 in Epoch 1 -- loss : 252.6355\n",
      "Batch 154 out of 232 in Epoch 1 -- loss : 272.3555\n",
      "Batch 155 out of 232 in Epoch 1 -- loss : 267.8129\n",
      "Batch 156 out of 232 in Epoch 1 -- loss : 268.0945\n",
      "Batch 157 out of 232 in Epoch 1 -- loss : 265.8160\n",
      "Batch 158 out of 232 in Epoch 1 -- loss : 250.6734\n",
      "Batch 159 out of 232 in Epoch 1 -- loss : 286.4770\n",
      "Batch 160 out of 232 in Epoch 1 -- loss : 271.5500\n",
      "Batch 161 out of 232 in Epoch 1 -- loss : 299.5367\n",
      "Batch 162 out of 232 in Epoch 1 -- loss : 293.4863\n",
      "Batch 163 out of 232 in Epoch 1 -- loss : 245.4965\n",
      "Batch 164 out of 232 in Epoch 1 -- loss : 285.7664\n",
      "Batch 165 out of 232 in Epoch 1 -- loss : 307.5383\n",
      "Batch 166 out of 232 in Epoch 1 -- loss : 253.2754\n",
      "Batch 167 out of 232 in Epoch 1 -- loss : 303.3094\n",
      "Batch 168 out of 232 in Epoch 1 -- loss : 250.4727\n",
      "Batch 169 out of 232 in Epoch 1 -- loss : 275.8539\n",
      "Batch 170 out of 232 in Epoch 1 -- loss : 264.8906\n",
      "Batch 171 out of 232 in Epoch 1 -- loss : 269.1566\n",
      "Batch 172 out of 232 in Epoch 1 -- loss : 285.9832\n",
      "Batch 173 out of 232 in Epoch 1 -- loss : 278.1414\n",
      "Batch 174 out of 232 in Epoch 1 -- loss : 265.3793\n",
      "Batch 175 out of 232 in Epoch 1 -- loss : 278.4902\n",
      "Batch 176 out of 232 in Epoch 1 -- loss : 251.0543\n",
      "Batch 177 out of 232 in Epoch 1 -- loss : 275.6273\n",
      "Batch 178 out of 232 in Epoch 1 -- loss : 314.7004\n",
      "Batch 179 out of 232 in Epoch 1 -- loss : 279.7633\n",
      "Batch 180 out of 232 in Epoch 1 -- loss : 282.8426\n",
      "Batch 181 out of 232 in Epoch 1 -- loss : 229.0242\n",
      "Batch 182 out of 232 in Epoch 1 -- loss : 251.3285\n",
      "Batch 183 out of 232 in Epoch 1 -- loss : 244.0789\n",
      "Batch 184 out of 232 in Epoch 1 -- loss : 244.0289\n",
      "Batch 185 out of 232 in Epoch 1 -- loss : 243.8613\n",
      "Batch 186 out of 232 in Epoch 1 -- loss : 240.6949\n",
      "Batch 187 out of 232 in Epoch 1 -- loss : 259.1289\n",
      "Batch 188 out of 232 in Epoch 1 -- loss : 292.9316\n",
      "Batch 189 out of 232 in Epoch 1 -- loss : 267.4379\n",
      "Batch 190 out of 232 in Epoch 1 -- loss : 258.9754\n",
      "Batch 191 out of 232 in Epoch 1 -- loss : 262.0781\n",
      "Batch 192 out of 232 in Epoch 1 -- loss : 253.2707\n",
      "Batch 193 out of 232 in Epoch 1 -- loss : 229.4996\n",
      "Batch 194 out of 232 in Epoch 1 -- loss : 256.1035\n",
      "Batch 195 out of 232 in Epoch 1 -- loss : 277.2234\n",
      "Batch 196 out of 232 in Epoch 1 -- loss : 254.8687\n",
      "Batch 197 out of 232 in Epoch 1 -- loss : 240.6789\n",
      "Batch 198 out of 232 in Epoch 1 -- loss : 257.2656\n",
      "Batch 199 out of 232 in Epoch 1 -- loss : 292.7043\n",
      "Batch 200 out of 232 in Epoch 1 -- loss : 266.5441\n",
      "Batch 201 out of 232 in Epoch 1 -- loss : 305.9375\n",
      "Batch 202 out of 232 in Epoch 1 -- loss : 261.8371\n",
      "Batch 203 out of 232 in Epoch 1 -- loss : 255.5090\n",
      "Batch 204 out of 232 in Epoch 1 -- loss : 279.9461\n",
      "Batch 205 out of 232 in Epoch 1 -- loss : 258.0410\n",
      "Batch 206 out of 232 in Epoch 1 -- loss : 243.3090\n",
      "Batch 207 out of 232 in Epoch 1 -- loss : 255.3422\n",
      "Batch 208 out of 232 in Epoch 1 -- loss : 259.1176\n",
      "Batch 209 out of 232 in Epoch 1 -- loss : 267.7637\n",
      "Batch 210 out of 232 in Epoch 1 -- loss : 289.6598\n",
      "Batch 211 out of 232 in Epoch 1 -- loss : 262.0297\n",
      "Batch 212 out of 232 in Epoch 1 -- loss : 252.1391\n",
      "Batch 213 out of 232 in Epoch 1 -- loss : 251.6770\n",
      "Batch 214 out of 232 in Epoch 1 -- loss : 290.9945\n",
      "Batch 215 out of 232 in Epoch 1 -- loss : 260.4699\n",
      "Batch 216 out of 232 in Epoch 1 -- loss : 230.8488\n",
      "Batch 217 out of 232 in Epoch 1 -- loss : 296.3023\n",
      "Batch 218 out of 232 in Epoch 1 -- loss : 254.0984\n",
      "Batch 219 out of 232 in Epoch 1 -- loss : 285.0238\n",
      "Batch 220 out of 232 in Epoch 1 -- loss : 278.3027\n",
      "Batch 221 out of 232 in Epoch 1 -- loss : 223.9391\n",
      "Batch 222 out of 232 in Epoch 1 -- loss : 276.2500\n",
      "Batch 223 out of 232 in Epoch 1 -- loss : 233.7609\n",
      "Batch 224 out of 232 in Epoch 1 -- loss : 262.5391\n",
      "Batch 225 out of 232 in Epoch 1 -- loss : 265.2359\n",
      "Batch 226 out of 232 in Epoch 1 -- loss : 232.4914\n",
      "Batch 227 out of 232 in Epoch 1 -- loss : 290.2769\n",
      "Batch 228 out of 232 in Epoch 1 -- loss : 239.5727\n",
      "Batch 229 out of 232 in Epoch 1 -- loss : 285.9492\n",
      "Batch 230 out of 232 in Epoch 1 -- loss : 329.0406\n",
      "Batch 231 out of 232 in Epoch 1 -- loss : 246.7586\n",
      "Batch 232 out of 232 in Epoch 1 -- loss : 249.4016\n",
      "Epoch 1 -- loss : 312.4464\n"
     ]
    }
   ],
   "source": [
    "# Set-up training\n",
    "nb_of_epochs = nb_iteration\n",
    "batch_size = lot_size  # The backpropagation is done after every batch, but a batch here is also used for memory requirements\n",
    "number_of_batches = len(train_indices) // batch_size\n",
    "\n",
    "params = [w1, w2]  # Trainable parameters\n",
    "optimizer = torch.optim.Adam(params, lr=learning_rate, amsgrad=True)\n",
    "loss_fn = torch.nn.MSELoss(reduction='mean')\n",
    "\n",
    "for e in range(nb_of_epochs):\n",
    "    epoch_loss = 0\n",
    "    i = 0\n",
    "    for batch in np.array_split(train_indices, number_of_batches):\n",
    "        i += 1\n",
    "        # Select batch and convert to tensors\n",
    "        batch_spike_train = torch.FloatTensor(spike_train[batch].todense()).to(device)\n",
    "        batch_labels = torch.LongTensor(y[batch, np.newaxis]).to(device)\n",
    "\n",
    "        # Here we create a target spike count (10 spikes for wrong label, 100 spikes for true label) in a one-hot fashion\n",
    "        # This approach is seen in Shrestha & Orchard (2018) https://arxiv.org/pdf/1810.08646.pdf\n",
    "        # Code available at https://github.com/bamsumit/slayerPytorch\n",
    "        min_spike_count = 10 * torch.ones((batch.shape[0], 10), device=device, dtype=torch.float)\n",
    "        target_output = min_spike_count.scatter_(1, batch_labels, 100.0)\n",
    "\n",
    "        # Forward propagation\n",
    "        layer_1_spikes = run_spiking_layer(batch_spike_train, w1)\n",
    "        layer_2_spikes = run_spiking_layer(layer_1_spikes, w2)\n",
    "        network_output = torch.sum(layer_2_spikes, 2)  # Count the spikes over time axis\n",
    "        loss = loss_fn(network_output, target_output)\n",
    "\n",
    "        # Backward propagation\n",
    "        optimizer.zero_grad()\n",
    "        loss.backward()\n",
    "        optimizer.step()\n",
    "        epoch_loss += loss.item()\n",
    "\n",
    "        print(\"Batch %i out of %i in Epoch %i -- loss : %.4f\" %(i, number_of_batches, e+1, loss.item()))\n",
    "    \n",
    "    print(\"Epoch %i -- loss : %.4f\" %(e+1, epoch_loss / number_of_batches))"
   ]
  },
  {
   "cell_type": "markdown",
   "metadata": {
    "id": "0j4qQrgVnihY"
   },
   "source": [
    "# Test"
   ]
  },
  {
   "cell_type": "code",
   "execution_count": 11,
   "metadata": {
    "id": "NgQyFnPetmxQ"
   },
   "outputs": [
    {
     "name": "stdout",
     "output_type": "stream",
     "text": [
      "Model accuracy on test set: 0.887\n"
     ]
    }
   ],
   "source": [
    "# Test the accuracy of the model\n",
    "correct_label_count = 0\n",
    "\n",
    "# We only need to batchify the test set for memory requirements\n",
    "for batch in np.array_split(test_indices,  len(test_indices) // batch_size):\n",
    "    test_spike_train = torch.FloatTensor(spike_train[batch].todense()).to(device)\n",
    "\n",
    "    # Same forward propagation as before\n",
    "    layer_1_spikes = run_spiking_layer(test_spike_train, w1)\n",
    "    layer_2_spikes = run_spiking_layer(layer_1_spikes, w2)\n",
    "    network_output = torch.sum(layer_2_spikes, 2)  # Count the spikes over time axis\n",
    "\n",
    "    # Do the prediction by selecting the output neuron with the most number of spikes\n",
    "    _, am = torch.max(network_output, 1)\n",
    "    correct_label_count += np.sum(am.detach().cpu().numpy() == y[batch])\n",
    "\n",
    "print(\"Model accuracy on test set: %.3f\" % (correct_label_count / len(test_indices)))"
   ]
  }
 ],
 "metadata": {
  "accelerator": "GPU",
  "colab": {
   "provenance": [],
   "toc_visible": true
  },
  "kernelspec": {
   "display_name": "Python 3 (ipykernel)",
   "language": "python",
   "name": "python3"
  },
  "language_info": {
   "codemirror_mode": {
    "name": "ipython",
    "version": 3
   },
   "file_extension": ".py",
   "mimetype": "text/x-python",
   "name": "python",
   "nbconvert_exporter": "python",
   "pygments_lexer": "ipython3",
   "version": "3.11.6"
  }
 },
 "nbformat": 4,
 "nbformat_minor": 1
}
