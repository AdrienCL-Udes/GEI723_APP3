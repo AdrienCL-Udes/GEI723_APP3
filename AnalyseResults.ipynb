{
 "cells": [
  {
   "cell_type": "markdown",
   "metadata": {},
   "source": [
    "## Analyser les résultats\n",
    "\n",
    "Ce code extrait la plus petite perte enregistrer durant l'entrainement."
   ]
  },
  {
   "cell_type": "code",
   "execution_count": 19,
   "metadata": {},
   "outputs": [
    {
     "name": "stdout",
     "output_type": "stream",
     "text": [
      "Probleme3_1.txt: 234.7269\n",
      "\n",
      "Probleme3_2.txt: 184.5627\n",
      "\n",
      "Probleme3_3.txt: 876.486\n",
      "\n",
      "Probleme3_4.txt: 560.7965\n",
      "\n",
      "Probleme3_5.txt: 913.6778\n",
      "\n",
      "Probleme4_1.txt: 854.9506\n",
      "\n",
      "Probleme4_2.txt: 143.3168\n",
      "\n",
      "Probleme4_3.txt: 1077.1389\n",
      "\n",
      "Probleme4_4.txt: 931.379\n",
      "\n",
      "Probleme4_5.txt: 1065.7778\n",
      "\n",
      "Probleme5_3.txt: 205.0284\n",
      "\n",
      "Probleme5_4.txt: 223.9391\n",
      "\n",
      "Probleme5_5.txt: 203.9844\n",
      "\n",
      "Probleme5_6.txt: 810.0\n",
      "\n",
      "Probleme5_7.txt: 212.1694\n",
      "\n",
      "Probleme6_1.txt: 267.4506\n",
      "\n",
      "Probleme6_2.txt: 389.9965\n",
      "\n"
     ]
    }
   ],
   "source": [
    "import os\n",
    "import re\n",
    "\n",
    "folder_path = \"./Result\"\n",
    "\n",
    "# List all files in the folder\n",
    "files = [f for f in os.listdir(folder_path) if os.path.isfile(os.path.join(folder_path, f))]\n",
    "\n",
    "# Read each file line by line\n",
    "for file_name in files:\n",
    "\n",
    "    file_path = os.path.join(folder_path, file_name)\n",
    "    \n",
    "    with open(file_path, 'r') as file:\n",
    "        loss = 9999 # Init loss to arbitrary high amount\n",
    "        \n",
    "        for line_number, line in enumerate(file, start=1):\n",
    "            value = float(re.split(':', line)[1].strip()) # Extract value\n",
    "            loss = (value, loss)[value > loss] # Keep smallest loss\n",
    "\n",
    "    print(file_name + \": \" + str(loss) + \"\\n\")\n"
   ]
  },
  {
   "cell_type": "markdown",
   "metadata": {},
   "source": [
    "Ce code extrait la perte a la fin de l'entrainement du réseau de neurone."
   ]
  },
  {
   "cell_type": "code",
   "execution_count": 18,
   "metadata": {},
   "outputs": [
    {
     "name": "stdout",
     "output_type": "stream",
     "text": [
      "Probleme3_1.txt: 284.2158\n",
      "\n",
      "Probleme3_2.txt: 232.0563\n",
      "\n",
      "Probleme3_3.txt: 1059.7061\n",
      "\n",
      "Probleme3_4.txt: 2192.3755\n",
      "\n",
      "Probleme3_5.txt: 1090.0000\n",
      "\n",
      "Probleme4_1.txt: 916.9149\n",
      "\n",
      "Probleme4_2.txt: 201.8420\n",
      "\n",
      "Probleme4_3.txt: 1090.0000\n",
      "\n",
      "Probleme4_4.txt: 1090.0000\n",
      "\n",
      "Probleme4_5.txt: 1090.0000\n",
      "\n",
      "Probleme5_3.txt: 243.2841\n",
      "\n",
      "Probleme5_4.txt: 312.4464\n",
      "\n",
      "Probleme5_5.txt: 262.8238\n",
      "\n",
      "Probleme5_6.txt: 810.0262\n",
      "\n",
      "Probleme5_7.txt: 238.9617\n",
      "\n",
      "Probleme6_1.txt: 331.8551\n",
      "\n",
      "Probleme6_2.txt: 437.7879\n",
      "\n"
     ]
    }
   ],
   "source": [
    "import os\n",
    "import re\n",
    "\n",
    "folder_path = \"./Result\"\n",
    "\n",
    "# List all files in the folder\n",
    "files = [f for f in os.listdir(folder_path) if os.path.isfile(os.path.join(folder_path, f))]\n",
    "\n",
    "# Read each file line by line\n",
    "for file_name in files:\n",
    "\n",
    "    file_path = os.path.join(folder_path, file_name)\n",
    "    \n",
    "    with open(file_path, \"rb\") as file:\n",
    "        # Go to the last line\n",
    "        file.seek(-2, 2)\n",
    "        while file.read(1) != b'\\n':\n",
    "            file.seek(-2, 1)\n",
    "\n",
    "        # Read the last line\n",
    "        last_line = file.readline().decode()\n",
    "    \n",
    "    loss = re.split(': ', last_line)[1] # Extract value\n",
    "    print(file_name + \": \" + loss)\n"
   ]
  }
 ],
 "metadata": {
  "kernelspec": {
   "display_name": "Python 3",
   "language": "python",
   "name": "python3"
  },
  "language_info": {
   "codemirror_mode": {
    "name": "ipython",
    "version": 3
   },
   "file_extension": ".py",
   "mimetype": "text/x-python",
   "name": "python",
   "nbconvert_exporter": "python",
   "pygments_lexer": "ipython3",
   "version": "3.11.6"
  }
 },
 "nbformat": 4,
 "nbformat_minor": 2
}
