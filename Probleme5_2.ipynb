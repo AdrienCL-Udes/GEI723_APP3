{
 "cells": [
  {
   "cell_type": "markdown",
   "metadata": {
    "id": "PWTf7H60Z0i_"
   },
   "source": [
    "## Problème 5: 3 couches \n",
    "\n",
    "### Paramètre\n",
    "\n",
    "- Subsitution du gradient : Fonction de ReLu avec $\\alpha = 0.01$\n",
    "- **Nombre de couches : 3**\n",
    "- Nombre de neurones : 128\n",
    "- Nombre d’iterations : 4\n",
    "- Taux d’apprentissage : 0.01\n",
    "- Pas de discretisation $\\left(\\Delta T\\right)$ : 1 ms\n",
    "- Taille des lots : 256\n",
    "\n",
    "### Résultat\n",
    "\n",
    "Utiliser les résultats du notebook Probleme4_2"
   ]
  }
 ],
 "metadata": {
  "accelerator": "GPU",
  "colab": {
   "provenance": [],
   "toc_visible": true
  },
  "kernelspec": {
   "display_name": "Python 3 (ipykernel)",
   "language": "python",
   "name": "python3"
  },
  "language_info": {
   "codemirror_mode": {
    "name": "ipython",
    "version": 3
   },
   "file_extension": ".py",
   "mimetype": "text/x-python",
   "name": "python",
   "nbconvert_exporter": "python",
   "pygments_lexer": "ipython3",
   "version": "3.11.6"
  }
 },
 "nbformat": 4,
 "nbformat_minor": 1
}
